{
 "cells": [
  {
   "cell_type": "markdown",
   "metadata": {},
   "source": [
    "# Investigación sobre StyleGAN - Pablo García Muñoz"
   ]
  },
  {
   "cell_type": "markdown",
   "metadata": {},
   "source": [
    "## Contexto Histórico\n",
    "La **StyleGAN** fue introducida por **NVIDIA** en un artículo titulado *\"A Style-Based Generator Architecture for Generative Adversarial Networks\"* publicado en 2018. Fue desarrollado por **Tero Karras, Samuli Laine y Timo Aila**. Este trabajo fue una evolución de la **Progressive Growing GAN (ProGAN)**, también desarrollada por NVIDIA. \n",
    "\n",
    "La motivación principal detrás de StyleGAN era proporcionar un control más granular sobre las imágenes generadas, específicamente en términos de estilo, para permitir manipular aspectos como la estructura global y los detalles finos de manera separada. Esto resultó en un avance significativo en la calidad y realismo de las imágenes generadas, especialmente en aplicaciones como la generación de rostros humanos."
   ]
  },
  {
   "cell_type": "markdown",
   "metadata": {},
   "source": [
    "## Principales Características y Comparativa\n",
    "\n",
    "### Características principales\n",
    "- **Espacio latente extendido**: Introducción de un nuevo espacio latente denominado **W**, transformado a partir del espacio latente original **Z** mediante una red de mapeo. Esto permite mayor flexibilidad en la generación de imágenes.\n",
    "- **Control de estilo multi-escala**: Permite controlar diferentes niveles de estilo en la imagen, desde aspectos globales (pose, forma) hasta detalles más finos (textura, color).\n",
    "- **Normalización adaptativa de características (AdaIN)**: Ajusta las características en cada capa del generador para aplicar el estilo deseado.\n",
    "- **Eliminación de artefactos**: StyleGAN minimiza problemas comunes en GANs anteriores, como artefactos repetitivos o incoherencias en las imágenes."
   ]
  },
  {
   "cell_type": "markdown",
   "metadata": {},
   "source": [
    "### Comparativa frente a otras GANs\n",
    "| Tipo de GAN       | Ventajas                                     | Desventajas                          |\n",
    "|-------------------|---------------------------------------------|---------------------------------------|\n",
    "| **Vanilla GAN**   | Concepto simple y base para otras GANs      | Difícil de entrenar, mode collapse    |\n",
    "| **ProGAN**        | Generación progresiva para alta resolución  | Sin control detallado del estilo      |\n",
    "| **StyleGAN**      | Control granular del estilo, alta calidad   | Más compleja y costosa computacionalmente |\n",
    "| **WGAN**          | Entrenamiento estable                       | Sin enfoque en control del estilo     |"
   ]
  },
  {
   "cell_type": "markdown",
   "metadata": {},
   "source": [
    "## Arquitectura"
   ]
  },
  {
   "cell_type": "markdown",
   "metadata": {},
   "source": [
    "\n",
    "### Descripción\n",
    "La arquitectura de StyleGAN se diferencia por el uso de:\n",
    "\n",
    "1. **Red de Mapeo**: Convierte el vector latente **Z** en el espacio intermedio **W**, que proporciona mayor disentanglement y control del estilo.\n",
    "2. **Inyección de Estilo**: Utiliza la normalización adaptativa de características (**AdaIN**) para aplicar estilos específicos en cada capa del generador.\n",
    "3. **Generador basado en estilo**: En lugar de depender solo de un vector latente inicial, el estilo se aplica a través de múltiples capas, permitiendo modificar aspectos a diferentes escalas.\n",
    "4. **Desacoplamiento del ruido**: Se introduce ruido aleatorio independiente en diferentes capas para añadir detalles locales, como textura o granulado."
   ]
  },
  {
   "cell_type": "markdown",
   "metadata": {},
   "source": [
    "### Diagrama de la arquitectura\n",
    "![Figura 2: Diagrama de la arquitectura StyleGAN](img_cuaderno/Arquitectura_StyleGAN.png)"
   ]
  },
  {
   "cell_type": "markdown",
   "metadata": {},
   "source": [
    "### Parámetros clave\n",
    "- **Capas de convolución progresivas**: Permiten generar imágenes en resoluciones crecientes.\n",
    "- **AdaIN**: Calcula las estadísticas (media y desviación estándar) para ajustar el estilo en cada capa.\n",
    "- **Ruido independiente**: Mejora la variabilidad en detalles finos."
   ]
  },
  {
   "cell_type": "markdown",
   "metadata": {},
   "source": [
    "## Aplicaciones y Casos de Uso\n",
    "\n",
    "1. **Generación de rostros humanos**: Aplicación más destacada, con resultados hiperrealistas (e.g., *ThisPersonDoesNotExist.com*).\n",
    "2. **Diseño gráfico y artístico**: Generación de texturas, estilos artísticos, y arte conceptual.\n",
    "3. **Investigación médica**: Generación de imágenes médicas sintéticas para entrenamiento de modelos sin violar la privacidad de datos.\n",
    "4. **Entretenimiento**: Creación de personajes realistas para videojuegos o películas.\n",
    "5. **Diseño de interiores y moda**: Generación de prototipos y visualizaciones rápidas."
   ]
  },
  {
   "cell_type": "markdown",
   "metadata": {},
   "source": [
    "StyleGAN ha sido un punto de inflexión en la investigación de GANs debido a su capacidad para generar contenido de alta calidad con control detallado, lo que la convierte en una herramienta versátil y poderosa en múltiples industrias."
   ]
  }
 ],
 "metadata": {
  "language_info": {
   "name": "python"
  }
 },
 "nbformat": 4,
 "nbformat_minor": 2
}
